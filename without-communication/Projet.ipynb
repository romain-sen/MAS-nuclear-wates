{
 "cells": [
  {
   "cell_type": "markdown",
   "id": "a8190f76",
   "metadata": {},
   "source": [
    "# Imports"
   ]
  },
  {
   "cell_type": "code",
   "execution_count": 1,
   "id": "204637ac",
   "metadata": {},
   "outputs": [],
   "source": [
    "import mesa\n",
    "from mesa import Agent, Model\n",
    "from mesa.time import BaseScheduler"
   ]
  },
  {
   "cell_type": "markdown",
   "id": "bc82b2a2",
   "metadata": {},
   "source": [
    "# Agents"
   ]
  },
  {
   "cell_type": "code",
   "execution_count": null,
   "id": "bd6fc3a1",
   "metadata": {},
   "outputs": [],
   "source": [
    "\"\"\"\n",
    "J'imagine percepts comme cela:\n",
    "percepts = {(x1, y1) : {\"agents\": [list of agents at pos1],\n",
    "                        \"waste\": [list of waste at pos1]\n",
    "                        \"zone\": \"color of the zone at pos1\"}, \n",
    "            (x2, y2) : {\"agents\": [list of agents at pos2],\n",
    "                        \"waste\": [list of waste at pos2]\n",
    "                        \"zone\": \"color of the zone at pos2\"},\n",
    "            ...}\n",
    "C'est avec cette structu que j'ai commencé à coder deliberate\n",
    "\"\"\"\n",
    "\n",
    "class GreenRobot(Agent):\n",
    "    def __init__(self, unique_id, model, pos):\n",
    "        super().__init__(unique_id, model)\n",
    "        self.knowledge = {\"color\":\"green\", \"pos\": pos,\"waste1\":None, \"waste2\": None, \"percepts\": {}}\n",
    "        \n",
    "    def step(self):\n",
    "        update(self.knowledge, percepts) \n",
    "        action = deliberate(self.knowledge) \n",
    "        percepts = self.model.do(self,action)"
   ]
  },
  {
   "cell_type": "code",
   "execution_count": null,
   "id": "3f7f57a5",
   "metadata": {},
   "outputs": [],
   "source": [
    "# not allowed to access any variable outside its argument.\n",
    "# donne en sortie l'acion à prendre\n",
    "def deliberate(knowledge):\n",
    "    if knowledge.color == \"green\":\n",
    "        if knowledge[\"waste1\"].color == \"yellow\": # Carrying a transformed waste. \n",
    "            is_right_cell = lambda x: x[0] == knowledge[\"pos\"][0] + 1\n",
    "            right_cell = [key for key in knowledge[\"percepts\"].keys() if is_right_cell(key)][0]\n",
    "            if knowledge[\"percepts\"][right_cell][\"zone\"] == \"green\": # Is the green robot at the border\n",
    "                return \"right\" # If no, transport the transformed waste futher east\n",
    "            else:\n",
    "                return \"drop\" # If yes, drop it here\n",
    "        else:\n",
    "            if (knowledge[\"waste1\"] is not None) and (knowledge[\"waste2\"] is not None): # Carrying two green wastes\n",
    "                return \"transform\"\n",
    "            else: # Must find a waste\n",
    "                if knowledge[\"percepts\"][knowledge[\"pos\"]][\"waste\"] != []:\n",
    "                    if knowledge[\"percepts\"][knowledge[\"pos\"]][\"waste\"][0].color = \"green\": # Wether the robot stands on a cell with a green waste\n",
    "                        return \"grab\" # Grab the waste\n",
    "                else: # Should move to find a waste\n",
    "                    possible_positions = []\n",
    "                    for cell in knowledge[\"percepts\"]:\n",
    "                        if knowledge[\"percepts\"][cell][\"zone\"] == \"green\":\n",
    "                            # TODO : add more conditions to create a smart decision\n",
    "                            return possible_positions[random.randint(0, len(possible_positions)-1)] # Next cell to go\n",
    "    elif knowledge.color == \"yellow\":\n",
    "        # TODO"
   ]
  },
  {
   "cell_type": "code",
   "execution_count": null,
   "id": "53eb167c",
   "metadata": {},
   "outputs": [],
   "source": [
    "# mets à jour knowledge à partir de percepts (qui contient les informations de l'environnement)\n",
    "def update(knowledge, percepts):\n",
    "    knowledge[\"percepts\"] = percepts"
   ]
  },
  {
   "cell_type": "markdown",
   "id": "5acca8e2",
   "metadata": {},
   "source": [
    "# Objects"
   ]
  },
  {
   "cell_type": "code",
   "execution_count": null,
   "id": "30b1f074",
   "metadata": {},
   "outputs": [],
   "source": [
    "class Radioactivity(Agent):\n",
    "    def __init__(self, unique_id, model, zone, level):\n",
    "        super().__init__(unique_id, model)\n",
    "        self.zone = zone\n",
    "        self.level = level"
   ]
  },
  {
   "cell_type": "code",
   "execution_count": null,
   "id": "4ad16160",
   "metadata": {},
   "outputs": [],
   "source": [
    "class WasteDisposalZone(Agent):\n",
    "     def __init__(self, unique_id, model):\n",
    "            super().__init__(unique_id, model)\n",
    "            "
   ]
  },
  {
   "cell_type": "code",
   "execution_count": null,
   "id": "409f2c17",
   "metadata": {},
   "outputs": [],
   "source": [
    "class Waste(Agent):\n",
    "    def __init__(self, unique_id, model, color, pos):\n",
    "        super().__init__(unique_id, model)\n",
    "        self.color = color\n",
    "        self.pos = pos"
   ]
  },
  {
   "cell_type": "markdown",
   "id": "d20dd1fb",
   "metadata": {},
   "source": [
    "# Scheduler"
   ]
  },
  {
   "cell_type": "markdown",
   "id": "219ef2e1",
   "metadata": {},
   "source": [
    "# Model"
   ]
  },
  {
   "cell_type": "code",
   "execution_count": null,
   "id": "b2bbe0fc",
   "metadata": {},
   "outputs": [],
   "source": [
    "class RobotMissionModel(Model):\n",
    "    \"\"\"Robot mission.\"\"\"\n",
    "    def __init__(self, width, height, N_green, N_yellow, N_red, W):\n",
    "        super().__init__()\n",
    "        self.schedule = RandomActivation(self)\n",
    "        self.grid = MultiGrid(width, height, False)\n",
    "\n",
    "        # Instanciate robots\n",
    "        for i in range(N_green + N_yellow + N_red):\n",
    "            pos = random.randint(0, width-1), random.randint(0, height-1)\n",
    "            if i < N_green:\n",
    "                a = GreenRobot(i, self, pos) \n",
    "            elif (i >= N_green) & (i < N_yellow):\n",
    "                a = YellowRobot(i, self, pos) \n",
    "            else:\n",
    "                a = RedRobot(i, self, pos) \n",
    "            self.grid.place_agent(a, pos)\n",
    "            self.schedule.add(a)\n",
    "        \n",
    "        # Instantiate disposal zone\n",
    "        y_disposal_zone = random.randint(0, height-1)\n",
    "        agent_waste_disposal_zone = WasteDisposalZone(0, self)\n",
    "        self.grid.place_agent(agent_waste_disposal_zone, (width-1, y_disposal_zone))\n",
    "        \n",
    "        # Instantiate radioactivity\n",
    "        id_radioactivity_agent = 0\n",
    "        for x in range(width):\n",
    "            for y in range(height):\n",
    "                if (x == width-1) & (y == y_disposal_zone): # Waste Disposal Zone\n",
    "                    pass\n",
    "                 elif x <= width//3:\n",
    "                    r = Radioactivity(id_radioactivity_agent, self, \"green\", random.uniform(0, 0.33))\n",
    "                elif (x > witdh//3) & (x <= width*2//3):\n",
    "                    r = Radioactivity(id_radioactivity_agent, self, \"yellow\", random.uniform(0.33, 0.66))\n",
    "                else:\n",
    "                    r = Radioactivity(id_radioactivity_agent, self, \"red\", random.uniform(0.66, 1))\n",
    "                id_radioactivity_agent = id_radioactivity_agent + 1\n",
    "                self.grid.place_agent(r, pos)\n",
    "        \n",
    "        # Instantiate wastes\n",
    "        id_waste = 0\n",
    "        for i in range(W_green): \n",
    "            pos = random.randint(0, width//3), random.randint(0, height-1)\n",
    "            w = Waste(id_waste, self, \"green\", pos)\n",
    "            self.grid.place_agent(w, pos)\n",
    "            self.schedule.add(w)\n",
    "            id_waste = id_waste + 1\n",
    "                    \n",
    "    def step(self):\n",
    "        self.schedule.step()"
   ]
  },
  {
   "cell_type": "markdown",
   "id": "8317efba",
   "metadata": {},
   "source": [
    "# Run"
   ]
  }
 ],
 "metadata": {
  "kernelspec": {
   "display_name": "Python 3 (ipykernel)",
   "language": "python",
   "name": "python3"
  },
  "language_info": {
   "codemirror_mode": {
    "name": "ipython",
    "version": 3
   },
   "file_extension": ".py",
   "mimetype": "text/x-python",
   "name": "python",
   "nbconvert_exporter": "python",
   "pygments_lexer": "ipython3",
   "version": "3.11.4"
  }
 },
 "nbformat": 4,
 "nbformat_minor": 5
}
