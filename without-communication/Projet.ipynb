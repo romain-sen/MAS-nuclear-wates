{
 "cells": [
  {
   "cell_type": "markdown",
   "id": "a8190f76",
   "metadata": {},
   "source": [
    "# Imports"
   ]
  },
  {
   "cell_type": "code",
   "execution_count": 1,
   "id": "204637ac",
   "metadata": {},
   "outputs": [],
   "source": [
    "import mesa\n",
    "from mesa import Agent, Model\n",
    "from mesa.time import RandomActivation"
   ]
  },
  {
   "cell_type": "markdown",
   "id": "bc82b2a2",
   "metadata": {},
   "source": [
    "# Agents"
   ]
  },
  {
   "cell_type": "code",
   "execution_count": null,
   "id": "bd6fc3a1",
   "metadata": {},
   "outputs": [],
   "source": [
    "class GreenAgent(Agent):\n",
    "    def __init__(self, unique_id, model, pos):\n",
    "        super().__init__(unique_id, model)\n",
    "        self.knowledge = {}\n",
    "        \n",
    "    def step(self):\n",
    "        #update(self.knowledge, percepts) \n",
    "        #action = deliberate(self.knowledge) \n",
    "        #percepts = self.model.do(self,action)"
   ]
  },
  {
   "cell_type": "code",
   "execution_count": null,
   "id": "3f7f57a5",
   "metadata": {},
   "outputs": [],
   "source": [
    "# not allowed to access any variable outside its argument.\n",
    "# donne en sortie l'acion à prendre\n",
    "def deliberate(knowledge):"
   ]
  },
  {
   "cell_type": "code",
   "execution_count": null,
   "id": "53eb167c",
   "metadata": {},
   "outputs": [],
   "source": [
    "# mets à jour knowledge à partir de percepts (qui contient les informations de l'environement)\n",
    "def update(knowledge, percepts):"
   ]
  },
  {
   "cell_type": "markdown",
   "id": "5acca8e2",
   "metadata": {},
   "source": [
    "# Objects"
   ]
  },
  {
   "cell_type": "code",
   "execution_count": null,
   "id": "30b1f074",
   "metadata": {},
   "outputs": [],
   "source": [
    "class Radioactivity(Agent):\n",
    "    def __init__(self, unique_id, model, zone):\n",
    "        super().__init__(unique_id, model)\n",
    "        self.zone = zone\n",
    "        self.level = level"
   ]
  },
  {
   "cell_type": "code",
   "execution_count": null,
   "id": "4ad16160",
   "metadata": {},
   "outputs": [],
   "source": [
    "class WasteDisposalZone(Agent):\n",
    "     def __init__(self, unique_id, model, waste_disposal_zone):\n",
    "            super().__init__(unique_id, model)\n",
    "            self.waste_disposal_zone = waste_disposal_zone"
   ]
  },
  {
   "cell_type": "code",
   "execution_count": null,
   "id": "409f2c17",
   "metadata": {},
   "outputs": [],
   "source": [
    "class Waste(Agent):\n",
    "    def __init__(self, unique_id, model, color):\n",
    "        super().__init__(unique_id, model)\n",
    "        self.color = color"
   ]
  },
  {
   "cell_type": "markdown",
   "id": "d20dd1fb",
   "metadata": {},
   "source": [
    "# Scheduler"
   ]
  },
  {
   "cell_type": "markdown",
   "id": "219ef2e1",
   "metadata": {},
   "source": [
    "# Model"
   ]
  },
  {
   "cell_type": "code",
   "execution_count": null,
   "id": "b2bbe0fc",
   "metadata": {},
   "outputs": [],
   "source": [
    "class RobotMissionModel(Model):\n",
    "    \"\"\"Robot mission.\"\"\"\n",
    "    def __init__(self, width, height, toroidal, N_green, N_yellow, N_red, W_green, W_yellow, W_red, w):\n",
    "        super().__init__()\n",
    "        self.schedule = RandomActivation(self)\n",
    "        self.grid = MultiGrid(width, height, toroidal)\n",
    "\n",
    "        for i in range(N_green + N_yellow + N_red):\n",
    "            pos = random.randint(1, width-1), random.randint(1, height-1)\n",
    "            if i < N_green:\n",
    "                a = GreenAgent(i, self, pos) \n",
    "            elif (i >= N_green) & (i < N_yellow):\n",
    "                a = YellowAgent(i, self, pos) \n",
    "            else:\n",
    "                a = RedAgent(i, self, pos) \n",
    "            self.grid.place_agent(a, pos)\n",
    "            self.schedule.add(a)\n",
    "        \n",
    "        \n",
    "        for \n",
    "        \n",
    "        \n",
    "    def step(self):\n",
    "        self.schedule.step()"
   ]
  },
  {
   "cell_type": "markdown",
   "id": "8317efba",
   "metadata": {},
   "source": [
    "# Run"
   ]
  }
 ],
 "metadata": {
  "kernelspec": {
   "display_name": "Python 3 (ipykernel)",
   "language": "python",
   "name": "python3"
  },
  "language_info": {
   "codemirror_mode": {
    "name": "ipython",
    "version": 3
   },
   "file_extension": ".py",
   "mimetype": "text/x-python",
   "name": "python",
   "nbconvert_exporter": "python",
   "pygments_lexer": "ipython3",
   "version": "3.11.4"
  }
 },
 "nbformat": 4,
 "nbformat_minor": 5
}
